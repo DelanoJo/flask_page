{
 "cells": [
  {
   "cell_type": "code",
   "execution_count": 11,
   "metadata": {
    "collapsed": true
   },
   "outputs": [],
   "source": [
    "import pandas\n",
    "df = pandas.read_csv('salesforce_object_metadata_2017_02_01.csv',index_col=\"FIELD_NAME\")"
   ]
  },
  {
   "cell_type": "code",
   "execution_count": 13,
   "metadata": {
    "collapsed": false,
    "scrolled": true
   },
   "outputs": [],
   "source": [
    "mask = [\"OBJECT_LABEL\"]\n",
    "fd2 =df[mask]"
   ]
  },
  {
   "cell_type": "code",
   "execution_count": 14,
   "metadata": {
    "collapsed": true
   },
   "outputs": [],
   "source": [
    "dfT = fd2.transpose()"
   ]
  },
  {
   "cell_type": "code",
   "execution_count": 15,
   "metadata": {
    "collapsed": false
   },
   "outputs": [
    {
     "data": {
      "text/html": [
       "<div>\n",
       "<table border=\"1\" class=\"dataframe\">\n",
       "  <thead>\n",
       "    <tr style=\"text-align: right;\">\n",
       "      <th>FIELD_NAME</th>\n",
       "      <th>Id</th>\n",
       "      <th>Name</th>\n",
       "      <th>OwnerId</th>\n",
       "      <th>CreatedDate</th>\n",
       "      <th>CreatedById</th>\n",
       "      <th>SystemModstamp</th>\n",
       "      <th>LastModifiedById</th>\n",
       "      <th>LastModifiedDate</th>\n",
       "      <th>IsDeleted</th>\n",
       "      <th>McLabs2__Monthly_Rent__c</th>\n",
       "      <th>...</th>\n",
       "      <th>McLabs2__Property_Types__c</th>\n",
       "      <th>McLabs2__Property_Cities__c</th>\n",
       "      <th>McLabs2__Capdominus_Id__c</th>\n",
       "      <th>McLabs2__Property_Zips__c</th>\n",
       "      <th>McLabs2__Group_IDs__c</th>\n",
       "      <th>McLabs2__Last_Sync_Result__c</th>\n",
       "      <th>McLabs2__Last_Sync_With_Capdominus__c</th>\n",
       "      <th>McLabs2__Import_Batch_ID__c</th>\n",
       "      <th>McLabs2__Imported_Date__c</th>\n",
       "      <th>McLabs2__Count_of_Properties__c</th>\n",
       "    </tr>\n",
       "  </thead>\n",
       "  <tbody>\n",
       "    <tr>\n",
       "      <th>OBJECT_LABEL</th>\n",
       "      <td>Unit Mix</td>\n",
       "      <td>Unit Mix</td>\n",
       "      <td>Unit Mix</td>\n",
       "      <td>Unit Mix</td>\n",
       "      <td>Unit Mix</td>\n",
       "      <td>Unit Mix</td>\n",
       "      <td>Unit Mix</td>\n",
       "      <td>Unit Mix</td>\n",
       "      <td>Unit Mix</td>\n",
       "      <td>Unit Mix</td>\n",
       "      <td>...</td>\n",
       "      <td>Contact</td>\n",
       "      <td>Contact</td>\n",
       "      <td>Contact</td>\n",
       "      <td>Contact</td>\n",
       "      <td>Contact</td>\n",
       "      <td>Contact</td>\n",
       "      <td>Contact</td>\n",
       "      <td>Contact</td>\n",
       "      <td>Contact</td>\n",
       "      <td>Contact</td>\n",
       "    </tr>\n",
       "  </tbody>\n",
       "</table>\n",
       "<p>1 rows × 1146 columns</p>\n",
       "</div>"
      ],
      "text/plain": [
       "FIELD_NAME          Id      Name   OwnerId CreatedDate CreatedById  \\\n",
       "OBJECT_LABEL  Unit Mix  Unit Mix  Unit Mix    Unit Mix    Unit Mix   \n",
       "\n",
       "FIELD_NAME   SystemModstamp LastModifiedById LastModifiedDate IsDeleted  \\\n",
       "OBJECT_LABEL       Unit Mix         Unit Mix         Unit Mix  Unit Mix   \n",
       "\n",
       "FIELD_NAME   McLabs2__Monthly_Rent__c               ...                \\\n",
       "OBJECT_LABEL                 Unit Mix               ...                 \n",
       "\n",
       "FIELD_NAME   McLabs2__Property_Types__c McLabs2__Property_Cities__c  \\\n",
       "OBJECT_LABEL                    Contact                     Contact   \n",
       "\n",
       "FIELD_NAME   McLabs2__Capdominus_Id__c McLabs2__Property_Zips__c  \\\n",
       "OBJECT_LABEL                   Contact                   Contact   \n",
       "\n",
       "FIELD_NAME   McLabs2__Group_IDs__c McLabs2__Last_Sync_Result__c  \\\n",
       "OBJECT_LABEL               Contact                      Contact   \n",
       "\n",
       "FIELD_NAME   McLabs2__Last_Sync_With_Capdominus__c  \\\n",
       "OBJECT_LABEL                               Contact   \n",
       "\n",
       "FIELD_NAME   McLabs2__Import_Batch_ID__c McLabs2__Imported_Date__c  \\\n",
       "OBJECT_LABEL                     Contact                   Contact   \n",
       "\n",
       "FIELD_NAME   McLabs2__Count_of_Properties__c  \n",
       "OBJECT_LABEL                         Contact  \n",
       "\n",
       "[1 rows x 1146 columns]"
      ]
     },
     "execution_count": 15,
     "metadata": {},
     "output_type": "execute_result"
    }
   ],
   "source": [
    "dfT.head()"
   ]
  },
  {
   "cell_type": "code",
   "execution_count": 23,
   "metadata": {
    "collapsed": false
   },
   "outputs": [],
   "source": [
    "import sqlite3\n",
    "conn=sqlite3.connect(\"schmeatodb.db\")\n",
    "cur=conn.cursor()"
   ]
  },
  {
   "cell_type": "code",
   "execution_count": 24,
   "metadata": {
    "collapsed": true
   },
   "outputs": [],
   "source": [
    "df2 = pandas.read_sql_query(\"SELECT FIELD_NAME, OBJECT_LABEL FROM {} WHERE OBJECT_NAME = 'Account'\".format(\"aptoschema\") ,conn)"
   ]
  },
  {
   "cell_type": "code",
   "execution_count": 25,
   "metadata": {
    "collapsed": false
   },
   "outputs": [
    {
     "data": {
      "text/html": [
       "<div>\n",
       "<table border=\"1\" class=\"dataframe\">\n",
       "  <thead>\n",
       "    <tr style=\"text-align: right;\">\n",
       "      <th></th>\n",
       "      <th>FIELD_NAME</th>\n",
       "      <th>OBJECT_LABEL</th>\n",
       "    </tr>\n",
       "  </thead>\n",
       "  <tbody>\n",
       "    <tr>\n",
       "      <th>0</th>\n",
       "      <td>Id</td>\n",
       "      <td>Company</td>\n",
       "    </tr>\n",
       "    <tr>\n",
       "      <th>1</th>\n",
       "      <td>Name</td>\n",
       "      <td>Company</td>\n",
       "    </tr>\n",
       "    <tr>\n",
       "      <th>2</th>\n",
       "      <td>MasterRecordId</td>\n",
       "      <td>Company</td>\n",
       "    </tr>\n",
       "  </tbody>\n",
       "</table>\n",
       "</div>"
      ],
      "text/plain": [
       "       FIELD_NAME OBJECT_LABEL\n",
       "0              Id      Company\n",
       "1            Name      Company\n",
       "2  MasterRecordId      Company"
      ]
     },
     "execution_count": 25,
     "metadata": {},
     "output_type": "execute_result"
    }
   ],
   "source": [
    "df2.head(3)"
   ]
  },
  {
   "cell_type": "code",
   "execution_count": 29,
   "metadata": {
    "collapsed": false,
    "scrolled": true
   },
   "outputs": [],
   "source": [
    "df2.set_index(\"FIELD_NAME\",inplace=True)"
   ]
  },
  {
   "cell_type": "code",
   "execution_count": 30,
   "metadata": {
    "collapsed": false
   },
   "outputs": [
    {
     "data": {
      "text/html": [
       "<div>\n",
       "<table border=\"1\" class=\"dataframe\">\n",
       "  <thead>\n",
       "    <tr style=\"text-align: right;\">\n",
       "      <th>FIELD_NAME</th>\n",
       "      <th>Id</th>\n",
       "      <th>Name</th>\n",
       "      <th>MasterRecordId</th>\n",
       "      <th>IsDeleted</th>\n",
       "      <th>Type</th>\n",
       "      <th>ParentId</th>\n",
       "      <th>RecordTypeId</th>\n",
       "      <th>BillingStreet</th>\n",
       "      <th>BillingState</th>\n",
       "      <th>BillingCity</th>\n",
       "      <th>...</th>\n",
       "      <th>JigsawCompanyId</th>\n",
       "      <th>AccountSource</th>\n",
       "      <th>McLabs2__Count_of_Properties__c</th>\n",
       "      <th>McLabs2__OSF_ID__c</th>\n",
       "      <th>McLabs2__SLA__c</th>\n",
       "      <th>McLabs2__Import_Batch_ID__c</th>\n",
       "      <th>LastViewedDate</th>\n",
       "      <th>McLabs2__Email__c</th>\n",
       "      <th>McLabs2__Imported_Date__c</th>\n",
       "      <th>LastActivityDate</th>\n",
       "    </tr>\n",
       "  </thead>\n",
       "  <tbody>\n",
       "    <tr>\n",
       "      <th>OBJECT_LABEL</th>\n",
       "      <td>Company</td>\n",
       "      <td>Company</td>\n",
       "      <td>Company</td>\n",
       "      <td>Company</td>\n",
       "      <td>Company</td>\n",
       "      <td>Company</td>\n",
       "      <td>Company</td>\n",
       "      <td>Company</td>\n",
       "      <td>Company</td>\n",
       "      <td>Company</td>\n",
       "      <td>...</td>\n",
       "      <td>Company</td>\n",
       "      <td>Company</td>\n",
       "      <td>Company</td>\n",
       "      <td>Company</td>\n",
       "      <td>Company</td>\n",
       "      <td>Company</td>\n",
       "      <td>Company</td>\n",
       "      <td>Company</td>\n",
       "      <td>Company</td>\n",
       "      <td>Company</td>\n",
       "    </tr>\n",
       "  </tbody>\n",
       "</table>\n",
       "<p>1 rows × 48 columns</p>\n",
       "</div>"
      ],
      "text/plain": [
       "FIELD_NAME         Id     Name MasterRecordId IsDeleted     Type ParentId  \\\n",
       "OBJECT_LABEL  Company  Company        Company   Company  Company  Company   \n",
       "\n",
       "FIELD_NAME   RecordTypeId BillingStreet BillingState BillingCity  \\\n",
       "OBJECT_LABEL      Company       Company      Company     Company   \n",
       "\n",
       "FIELD_NAME         ...        JigsawCompanyId AccountSource  \\\n",
       "OBJECT_LABEL       ...                Company       Company   \n",
       "\n",
       "FIELD_NAME   McLabs2__Count_of_Properties__c McLabs2__OSF_ID__c  \\\n",
       "OBJECT_LABEL                         Company            Company   \n",
       "\n",
       "FIELD_NAME   McLabs2__SLA__c McLabs2__Import_Batch_ID__c LastViewedDate  \\\n",
       "OBJECT_LABEL         Company                     Company        Company   \n",
       "\n",
       "FIELD_NAME   McLabs2__Email__c McLabs2__Imported_Date__c LastActivityDate  \n",
       "OBJECT_LABEL           Company                   Company          Company  \n",
       "\n",
       "[1 rows x 48 columns]"
      ]
     },
     "execution_count": 30,
     "metadata": {},
     "output_type": "execute_result"
    }
   ],
   "source": [
    "df2.transpose()"
   ]
  },
  {
   "cell_type": "code",
   "execution_count": null,
   "metadata": {
    "collapsed": true
   },
   "outputs": [],
   "source": []
  }
 ],
 "metadata": {
  "kernelspec": {
   "display_name": "Python 3",
   "language": "python",
   "name": "python3"
  },
  "language_info": {
   "codemirror_mode": {
    "name": "ipython",
    "version": 3
   },
   "file_extension": ".py",
   "mimetype": "text/x-python",
   "name": "python",
   "nbconvert_exporter": "python",
   "pygments_lexer": "ipython3",
   "version": "3.6.0"
  }
 },
 "nbformat": 4,
 "nbformat_minor": 2
}
